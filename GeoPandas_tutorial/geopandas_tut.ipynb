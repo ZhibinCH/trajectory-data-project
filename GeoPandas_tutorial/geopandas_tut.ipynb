{
 "cells": [
  {
   "cell_type": "code",
   "execution_count": null,
   "id": "8b2e2826",
   "metadata": {},
   "outputs": [],
   "source": [
    "import os\n",
    "import geopandas\n",
    "#print(\"The current working directory is \",os. getcwd())\n",
    "path_to_data = geopandas.datasets.get_path(\"nybb\")\n",
    "#print(path_to_data)\n",
    "gdf = geopandas.read_file(path_to_data)\n",
    "gdf.to_file(\"my_file.geojson\", driver=\"GeoJSON\")#save my_file.geojson in the current working directory"
   ]
  },
  {
   "cell_type": "code",
   "execution_count": null,
   "id": "8aa14b84",
   "metadata": {},
   "outputs": [],
   "source": [
    "gdf = gdf.set_index(\"BoroName\")#boroughs are set as an index\n",
    "gdf[\"area\"] = gdf.area\n",
    "gdf[\"area\"]"
   ]
  },
  {
   "cell_type": "code",
   "execution_count": null,
   "id": "14dd0432",
   "metadata": {},
   "outputs": [],
   "source": [
    "gdf['boundary'] = gdf.boundary\n",
    "gdf['boundary']\n",
    "gdf['centroid'] = gdf.centroid\n",
    "gdf['centroid']"
   ]
  },
  {
   "cell_type": "code",
   "execution_count": null,
   "id": "44dd2b90",
   "metadata": {},
   "outputs": [],
   "source": [
    "first_point = gdf['centroid'].iloc[0]\n",
    "gdf['distance'] = gdf['centroid'].distance(first_point)\n",
    "gdf['distance']"
   ]
  },
  {
   "cell_type": "code",
   "execution_count": null,
   "id": "a6d1e947",
   "metadata": {},
   "outputs": [],
   "source": [
    "gdf['distance'].mean()"
   ]
  },
  {
   "cell_type": "code",
   "execution_count": null,
   "id": "8f8a923e",
   "metadata": {},
   "outputs": [],
   "source": [
    "gdf.plot(\"area\", legend=True)"
   ]
  },
  {
   "cell_type": "code",
   "execution_count": null,
   "id": "d4065339",
   "metadata": {},
   "outputs": [],
   "source": [
    "gdf = gdf.set_geometry(\"centroid\")\n",
    "gdf.plot(\"area\", legend=True)"
   ]
  },
  {
   "cell_type": "code",
   "execution_count": null,
   "id": "d1669833",
   "metadata": {},
   "outputs": [],
   "source": [
    "ax = gdf[\"geometry\"].plot()\n",
    "gdf[\"centroid\"].plot(ax=ax, color=\"black\")"
   ]
  },
  {
   "cell_type": "code",
   "execution_count": null,
   "id": "2effa0de",
   "metadata": {},
   "outputs": [],
   "source": [
    "gdf = gdf.set_geometry(\"geometry\")\n",
    "# The most important property of a GeoDataFrame is that it always has one GeoSeries column that holds a special status. \n",
    "# This GeoSeries is referred to as the GeoDataFrame’s “geometry”. \n",
    "# When a spatial method is applied to a GeoDataFrame (or a spatial attribute like area is called), \n",
    "# this commands will always act on the “geometry” column.\n",
    "# A GeoDataFrame may also contain other columns with geometrical (shapely) objects, but only one column can be the active geometry at a time. To change which column is the active geometry column, use the GeoDataFrame.set_geometry() method."
   ]
  },
  {
   "cell_type": "code",
   "execution_count": null,
   "id": "36ece17e",
   "metadata": {},
   "outputs": [],
   "source": [
    "gdf.geometry.name #the name of the geometry column can be found by typing gdf.geometry.name"
   ]
  }
 ],
 "metadata": {
  "kernelspec": {
   "display_name": "Python 3",
   "language": "python",
   "name": "python3"
  },
  "language_info": {
   "codemirror_mode": {
    "name": "ipython",
    "version": 3
   },
   "file_extension": ".py",
   "mimetype": "text/x-python",
   "name": "python",
   "nbconvert_exporter": "python",
   "pygments_lexer": "ipython3",
   "version": "3.7.7"
  }
 },
 "nbformat": 4,
 "nbformat_minor": 5
}
