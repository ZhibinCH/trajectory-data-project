{
 "cells": [
  {
   "cell_type": "code",
   "execution_count": null,
   "id": "724d63c5",
   "metadata": {},
   "outputs": [],
   "source": [
    "import xml.etree.ElementTree as ET\n",
    "\n",
    "\n",
    "tree = ET.parse('sample_events.xml')\n",
    "\n",
    "root = tree.getroot()\n",
    "search_attribute = ('person','3')#get all events related to person 3\n",
    "\n",
    "for event in root:\n",
    "    if search_attribute[0] in event.attrib and event.attrib[search_attribute[0]] == search_attribute[1] :\n",
    "        print(event.tag, event.attrib)\n",
    "\n",
    "    \n"
   ]
  },
  {
   "cell_type": "code",
   "execution_count": null,
   "id": "b9229f64",
   "metadata": {},
   "outputs": [],
   "source": [
    "import xml.etree.ElementTree as et\n",
    "\n",
    "path_xml = \"\"# sepecify your local path here \n",
    "\n",
    "# get an iterable\n",
    "context = et.iterparse(path_xml+\"berlin-v5.2-10pct.output_events.xml\", events=(\"start\", \"end\"))\n",
    "\n",
    "# turn it into an iterator\n",
    "context = iter(context)\n",
    "# get the root element\n",
    "event, root = context.__next__()\n",
    "\n",
    "print_counter = 0\n",
    "for event, elem in context:\n",
    "    if event == \"end\" and elem.tag == \"event\":\n",
    "        if 'person' in elem.attrib and (elem.attrib['person'] == '95744301'):\n",
    "            print(elem.attrib)\n",
    "            root.clear()\n",
    "            print_counter += 1\n",
    "        if print_counter > 10:\n",
    "            break "
   ]
  }
 ],
 "metadata": {
  "kernelspec": {
   "display_name": "Python 3",
   "language": "python",
   "name": "python3"
  },
  "language_info": {
   "codemirror_mode": {
    "name": "ipython",
    "version": 3
   },
   "file_extension": ".py",
   "mimetype": "text/x-python",
   "name": "python",
   "nbconvert_exporter": "python",
   "pygments_lexer": "ipython3",
   "version": "3.7.7"
  }
 },
 "nbformat": 4,
 "nbformat_minor": 5
}
