{
 "cells": [
  {
   "cell_type": "code",
   "execution_count": null,
   "id": "724d63c5",
   "metadata": {},
   "outputs": [],
   "source": [
    "import xml.etree.ElementTree as ET\n",
    "\n",
    "tree = ET.parse('sample_events.xml')\n",
    "root = tree.getroot()\n",
    "search_attribute = ('person','3')#get all events related to person 3\n",
    "\n",
    "for event in root:\n",
    "    if search_attribute[0] in event.attrib and event.attrib[search_attribute[0]] == search_attribute[1] :\n",
    "        print(event.tag, event.attrib)\n",
    "\n",
    "    \n"
   ]
  },
  {
   "cell_type": "code",
   "execution_count": null,
   "id": "1df6bf40",
   "metadata": {},
   "outputs": [],
   "source": []
  }
 ],
 "metadata": {
  "kernelspec": {
   "display_name": "Python 3",
   "language": "python",
   "name": "python3"
  },
  "language_info": {
   "codemirror_mode": {
    "name": "ipython",
    "version": 3
   },
   "file_extension": ".py",
   "mimetype": "text/x-python",
   "name": "python",
   "nbconvert_exporter": "python",
   "pygments_lexer": "ipython3",
   "version": "3.7.7"
  }
 },
 "nbformat": 4,
 "nbformat_minor": 5
}
